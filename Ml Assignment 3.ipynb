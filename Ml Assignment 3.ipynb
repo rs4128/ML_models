{
 "cells": [
  {
   "cell_type": "code",
   "execution_count": 904,
   "metadata": {},
   "outputs": [],
   "source": [
    "import pandas as pd\n",
    "import numpy as np\n",
    "import math\n",
    "import matplotlib.pyplot as plt\n",
    "from sklearn.covariance import EmpiricalCovariance\n",
    "from scipy.stats import multivariate_normal\n",
    "from sklearn.metrics import confusion_matrix"
   ]
  },
  {
   "cell_type": "markdown",
   "metadata": {},
   "source": [
    "# PROBLEM 1 : BOOSTING"
   ]
  },
  {
   "cell_type": "code",
   "execution_count": 846,
   "metadata": {},
   "outputs": [],
   "source": []
  },
  {
   "cell_type": "markdown",
   "metadata": {},
   "source": [
    "# PART A: Plotting the training error\n"
   ]
  },
  {
   "cell_type": "code",
   "execution_count": 919,
   "metadata": {
    "scrolled": false
   },
   "outputs": [],
   "source": [
    "x_train = pd.read_csv('Prob1_X.csv',header= None)\n",
    "y_train = pd.read_csv('Prob1_y.csv',header= None)\n",
    "\n",
    "\n",
    "def indicator(val,y):\n",
    "    temp = val/abs(val)\n",
    "    if(temp == y):\n",
    "        return 0\n",
    "    else:\n",
    "        return 1\n",
    "\n",
    "\n",
    "\n",
    "epsilonArray = []\n",
    "weight = []\n",
    "alphaArray = []\n",
    "trainingErrors = []\n",
    "weights_ = np.array([])\n",
    "upperBoundTrainingError = []\n",
    "x_train_numpy = x_train.to_numpy()\n",
    "y_train_numpy = y_train.to_numpy()\n",
    "epsilonSummator = 0.0\n",
    "boosted = np.zeros(shape=(1000,1))\n",
    "for i in range(0,len(x_train)):\n",
    "    weight.append(1/len(x_train)) \n",
    "weights_  = np.array(weight) \n",
    "for t in range(1,2500):\n",
    "    epsilon = 0\n",
    "    value = x_train[0]\n",
    "    value2 = x_train[1]\n",
    "    value3 = x_train[2]\n",
    "    value4 = y_train[0]\n",
    "    np_weights = np.array(weight)\n",
    "    weights_ = np.vstack([weights_,np_weights])\n",
    "    bootstrapSample = pd.DataFrame({0:value,1:value2,2:value3,3:value4}).sample(n=1000,weights=weight,replace=True)\n",
    "    bootstrapSampleX = pd.DataFrame({0:bootstrapSample[0],1:bootstrapSample[1],2:bootstrapSample[2]})\n",
    "    bootstrapSampleY = pd.DataFrame({0:bootstrapSample[3]})\n",
    "    bootstrapSampleX_numpy = bootstrapSampleX.to_numpy()\n",
    "    bootstrapSampleY_numpy = bootstrapSampleY.to_numpy()\n",
    "    w = np.linalg.inv(bootstrapSampleX_numpy.transpose().dot(bootstrapSampleX_numpy)).dot(bootstrapSampleX_numpy.transpose()).dot(bootstrapSampleY_numpy)\n",
    "    summation = 0\n",
    "    for index in range(0,len(x_train_numpy)):\n",
    "        val = x_train_numpy[index].dot(w)\n",
    "        epsilon+=weight[index]*indicator(val[0],y_train_numpy[index][0])\n",
    "    epsilonArray.append(epsilon)\n",
    "    alpha = 0.5 *math.log((1-epsilon)/epsilon)\n",
    "    alphaArray.append(alpha)\n",
    "    newWeight=[]\n",
    " \n",
    "    for i in range(0,len(weight)):\n",
    "        newWeight.append(weight[i]*math.exp(-1*alpha*(y_train_numpy[i][0])*((x_train_numpy[i].dot(w)[0])/abs(x_train_numpy[i].dot(w)[0]))))\n",
    "        summation+=newWeight[i] \n",
    "    for i in range(0,len(newWeight)):\n",
    "        newWeight[i]=newWeight[i]/summation      \n",
    "    weight = newWeight \n",
    "    \n",
    "    boostedPredictions = []\n",
    "    trainingError = 0\n",
    "    temp_numpy = alpha*np.sign(x_train_numpy.dot(w))\n",
    "    boosted = boosted+temp_numpy\n",
    "    y_pred = np.sign(boosted)\n",
    "    epsilonSummator+= (0.5-epsilon)*(0.5-epsilon)\n",
    "    upperBoundError = math.exp(-2*epsilonSummator)\n",
    "    upperBoundTrainingError.append(upperBoundError)\n",
    "    for y_index in range(0,len(y_train_numpy)):\n",
    "        if(int(y_pred[y_index][0])!=int(y_train_numpy[y_index][0])):\n",
    "            trainingError+=1\n",
    "    trainingErrors.append(trainingError/len(x_train)) "
   ]
  },
  {
   "cell_type": "code",
   "execution_count": null,
   "metadata": {},
   "outputs": [],
   "source": []
  },
  {
   "cell_type": "code",
   "execution_count": 921,
   "metadata": {},
   "outputs": [
    {
     "data": {
      "image/png": "[encoded data removed]",
      "text/plain": [
       "<Figure size 432x288 with 1 Axes>"
      ]
     },
     "metadata": {
      "needs_background": "light"
     },
     "output_type": "display_data"
    },
    {
     "data": {
      "text/plain": [
       "<Figure size 2400x1600 with 0 Axes>"
      ]
     },
     "metadata": {},
     "output_type": "display_data"
    }
   ],
   "source": [
    "plt.plot( trainingErrors)\n",
    "plt.plot(upperBoundTrainingError)\n",
    "plt.figure(figsize=(24,16), dpi= 100, facecolor='w', edgecolor='k')\n",
    "plt.show()"
   ]
  },
  {
   "cell_type": "markdown",
   "metadata": {},
   "source": [
    "# Part B: Weights stem plot"
   ]
  },
  {
   "cell_type": "code",
   "execution_count": 922,
   "metadata": {},
   "outputs": [],
   "source": [
    "weightsAverage = []\n",
    "for i in range(weights_[0].shape[0]):\n",
    "    val = (np.sum(weights_[:,i]))\n",
    "    weightsAverage.append(val/weights_.shape[0])"
   ]
  },
  {
   "cell_type": "code",
   "execution_count": 923,
   "metadata": {},
   "outputs": [
    {
     "data": {
      "text/plain": [
       "<StemContainer object of 3 artists>"
      ]
     },
     "execution_count": 923,
     "metadata": {},
     "output_type": "execute_result"
    },
    {
     "data": {
      "image/png": "[encoded data removed]",
      "text/plain": [
       "<Figure size 432x288 with 1 Axes>"
      ]
     },
     "metadata": {
      "needs_background": "light"
     },
     "output_type": "display_data"
    }
   ],
   "source": [
    "#print(len(weightsAverage))\n",
    "\n",
    "y_list = list(range(0,1000))\n",
    "plt.stem(y_list,weightsAverage)"
   ]
  },
  {
   "cell_type": "markdown",
   "metadata": {},
   "source": [
    "# Part C: Epsilon and alpha Plots (First epsilon and then alpha)"
   ]
  },
  {
   "cell_type": "code",
   "execution_count": 924,
   "metadata": {},
   "outputs": [
    {
     "data": {
      "image/png": "[encoded data removed]",
      "text/plain": [
       "<Figure size 432x288 with 1 Axes>"
      ]
     },
     "metadata": {
      "needs_background": "light"
     },
     "output_type": "display_data"
    }
   ],
   "source": [
    "plt.plot(epsilonArray)\n",
    "plt.show()"
   ]
  },
  {
   "cell_type": "code",
   "execution_count": 925,
   "metadata": {},
   "outputs": [
    {
     "data": {
      "image/png": "[encoded data removed]",
      "text/plain": [
       "<Figure size 432x288 with 1 Axes>"
      ]
     },
     "metadata": {
      "needs_background": "light"
     },
     "output_type": "display_data"
    }
   ],
   "source": [
    "plt.plot(alphaArray)\n",
    "plt.show()"
   ]
  },
  {
   "cell_type": "markdown",
   "metadata": {},
   "source": [
    "# Problem 2: K-Means"
   ]
  },
  {
   "cell_type": "code",
   "execution_count": 962,
   "metadata": {},
   "outputs": [],
   "source": [
    "mean_1 = np.array([0,0])\n",
    "mean_2 = np.array([3,0])\n",
    "mean_3 = np.array([0,3])\n",
    "cov_1 = np.array([[1,0],[0,1]])\n",
    "cov_2 = np.array([[1,0],[0,1]])\n",
    "cov_3 = np.array([[1,0],[0,1]])"
   ]
  },
  {
   "cell_type": "markdown",
   "metadata": {},
   "source": [
    "# Generating Data and Writing the Algorithm"
   ]
  },
  {
   "cell_type": "code",
   "execution_count": 963,
   "metadata": {},
   "outputs": [],
   "source": [
    "data_1 = (np.random.multivariate_normal(mean_1, cov_1, 100))\n",
    "data_2 = (np.random.multivariate_normal(mean_2, cov_2, 250))\n",
    "data_3 = (np.random.multivariate_normal(mean_3, cov_3, 150))\n",
    "data = np.concatenate((np.concatenate((data_1,data_2),axis=0),data_3),axis=0)"
   ]
  },
  {
   "cell_type": "code",
   "execution_count": null,
   "metadata": {},
   "outputs": [],
   "source": []
  },
  {
   "cell_type": "code",
   "execution_count": 971,
   "metadata": {},
   "outputs": [
    {
     "name": "stdout",
     "output_type": "stream",
     "text": [
      "[761.7293830009437, -4.828853323236416]\n",
      "[-5.384444735894703, 510.49666165787147]\n",
      "[774.9197424585457, 7.989686077858217]\n",
      "[-18.574804193496693, 497.67812225677693]\n",
      "[776.1393510913615, 10.551253007815536]\n",
      "[-19.79441282631244, 495.1165553268196]\n",
      "[774.4913259415769, 9.781841635249908]\n",
      "[-18.14638767652784, 495.8859666993852]\n",
      "[773.4811492083818, 9.040135239535122]\n",
      "[-17.13621094333265, 496.6276730951]\n",
      "[773.4811492083818, 9.040135239535122]\n",
      "[-17.13621094333265, 496.6276730951]\n",
      "[773.4811492083818, 9.040135239535122]\n",
      "[-17.13621094333265, 496.6276730951]\n",
      "[773.4811492083818, 9.040135239535122]\n",
      "[-17.13621094333265, 496.6276730951]\n",
      "[773.4811492083818, 9.040135239535122]\n",
      "[-17.13621094333265, 496.6276730951]\n",
      "[773.4811492083818, 9.040135239535122]\n",
      "[-17.13621094333265, 496.6276730951]\n",
      "[773.4811492083818, 9.040135239535122]\n",
      "[-17.13621094333265, 496.6276730951]\n",
      "[773.4811492083818, 9.040135239535122]\n",
      "[-17.13621094333265, 496.6276730951]\n",
      "[773.4811492083818, 9.040135239535122]\n",
      "[-17.13621094333265, 496.6276730951]\n",
      "[773.4811492083818, 9.040135239535122]\n",
      "[-17.13621094333265, 496.6276730951]\n",
      "[773.4811492083818, 9.040135239535122]\n",
      "[-17.13621094333265, 496.6276730951]\n",
      "[773.4811492083818, 9.040135239535122]\n",
      "[-17.13621094333265, 496.6276730951]\n",
      "[773.4811492083818, 9.040135239535122]\n",
      "[-17.13621094333265, 496.6276730951]\n",
      "[773.4811492083818, 9.040135239535122]\n",
      "[-17.13621094333265, 496.6276730951]\n",
      "[773.4811492083818, 9.040135239535122]\n",
      "[-17.13621094333265, 496.6276730951]\n",
      "[773.4811492083818, 9.040135239535122]\n",
      "[-17.13621094333265, 496.6276730951]\n",
      "[3325.395548587404, 1454.826122359845, 1445.5965166757562, 1442.8253255656607, 1442.3830404990924, 1442.354448475703, 1442.354448475703, 1442.354448475703, 1442.354448475703, 1442.354448475703, 1442.354448475703, 1442.354448475703, 1442.354448475703, 1442.354448475703, 1442.354448475703, 1442.354448475703, 1442.354448475703, 1442.354448475703, 1442.354448475703, 1442.354448475703]\n",
      "[772.6637118752842, 12.473056233000522]\n",
      "[-37.74239769078881, -8.71209179679402]\n",
      "[21.423624080553598, 501.90684389842863]\n",
      "[771.474518420265, 25.914377936507318]\n",
      "[-41.5689144481074, -13.742774181135665]\n",
      "[26.439334292891537, 493.49620457926346]\n",
      "[749.5617171770615, 37.39377236234614]\n",
      "[-13.559867274831449, -13.012978394638463]\n",
      "[20.343088362819007, 481.28701436692756]\n",
      "[737.6510141987129, 43.85292803275954]\n",
      "[3.531384407132693, -14.649004653005232]\n",
      "[15.16253965920324, 476.4638849548808]\n",
      "[736.1042756522635, 43.885913623926804]\n",
      "[5.760135061987263, -11.729867015057428]\n",
      "[14.48052755079808, 473.51176172576567]\n",
      "[731.2906295777584, 44.01522002064662]\n",
      "[10.573781136492492, -11.859173411777247]\n",
      "[14.48052755079808, 473.51176172576567]\n",
      "[726.6091646869463, 41.94460746562641]\n",
      "[15.25524602730473, -9.788560856757032]\n",
      "[14.48052755079808, 473.51176172576567]\n",
      "[723.2347029734316, 42.69468098842719]\n",
      "[18.629707740819477, -10.538634379557807]\n",
      "[14.48052755079808, 473.51176172576567]\n",
      "[721.3972812881137, 44.552255502906675]\n",
      "[20.467129426137127, -12.396208894037295]\n",
      "[14.48052755079808, 473.51176172576567]\n",
      "[721.3972812881137, 44.552255502906675]\n",
      "[20.467129426137127, -12.396208894037295]\n",
      "[14.48052755079808, 473.51176172576567]\n",
      "[721.3972812881137, 44.552255502906675]\n",
      "[20.467129426137127, -12.396208894037295]\n",
      "[14.48052755079808, 473.51176172576567]\n",
      "[721.3972812881137, 44.552255502906675]\n",
      "[20.467129426137127, -12.396208894037295]\n",
      "[14.48052755079808, 473.51176172576567]\n",
      "[721.3972812881137, 44.552255502906675]\n",
      "[20.467129426137127, -12.396208894037295]\n",
      "[14.48052755079808, 473.51176172576567]\n",
      "[721.3972812881137, 44.552255502906675]\n",
      "[20.467129426137127, -12.396208894037295]\n",
      "[14.48052755079808, 473.51176172576567]\n",
      "[721.3972812881137, 44.552255502906675]\n",
      "[20.467129426137127, -12.396208894037295]\n",
      "[14.48052755079808, 473.51176172576567]\n",
      "[721.3972812881137, 44.552255502906675]\n",
      "[20.467129426137127, -12.396208894037295]\n",
      "[14.48052755079808, 473.51176172576567]\n",
      "[721.3972812881137, 44.552255502906675]\n",
      "[20.467129426137127, -12.396208894037295]\n",
      "[14.48052755079808, 473.51176172576567]\n",
      "[721.3972812881137, 44.552255502906675]\n",
      "[20.467129426137127, -12.396208894037295]\n",
      "[14.48052755079808, 473.51176172576567]\n",
      "[721.3972812881137, 44.552255502906675]\n",
      "[20.467129426137127, -12.396208894037295]\n",
      "[14.48052755079808, 473.51176172576567]\n",
      "[721.3972812881137, 44.552255502906675]\n",
      "[20.467129426137127, -12.396208894037295]\n",
      "[14.48052755079808, 473.51176172576567]\n",
      "[4370.1927887459, 1061.737649298121, 929.3581930196934, 868.7977251157663, 863.1147910259826, 862.7536807440725, 862.2403337571469, 861.7834613456079, 861.570619925268, 861.496187574303, 861.496187574303, 861.496187574303, 861.496187574303, 861.496187574303, 861.496187574303, 861.496187574303, 861.496187574303, 861.496187574303, 861.496187574303, 861.496187574303]\n",
      "[-2.166948700151534, -0.12203763516308937]\n",
      "[-20.232831532050785, -21.588321478793695]\n",
      "[-13.71110215413674, 483.9875612822989]\n",
      "[792.4558206513879, 43.390606166293004]\n",
      "[-16.024256393171285, 28.285625736919283]\n",
      "[-9.31699013508885, -37.0342773371011]\n",
      "[17.00446945814998, 476.1727125941848]\n",
      "[764.6817153351591, 38.24374734063217]\n",
      "[-10.394781882491412, 54.14138500605126]\n",
      "[5.207895531967617, -49.08526982791353]\n",
      "[20.016122241615065, 456.45853206683444]\n",
      "[741.5157023739577, 44.153161089662994]\n",
      "[-13.817268400671216, 59.24796226937862]\n",
      "[22.386767144439197, -57.43284878092443]\n",
      "[20.82216425986502, 454.44462544339194]\n",
      "[726.953275261416, 49.40806940278902]\n",
      "[-19.178948639108793, 64.21083301906259]\n",
      "[40.86359332106567, -59.95580722247563]\n",
      "[21.67694143562906, 448.2459900409204]\n",
      "[712.9833521474629, 53.16679249712777]\n",
      "[-26.880404035621172, 63.67683946285837]\n",
      "[56.960134047289685, -58.494565527114325]\n",
      "[22.246886086379305, 446.0994538739802]\n",
      "[704.018322167001, 54.38608052491086]\n",
      "[-30.408491055556592, 66.99905205755083]\n",
      "[70.52308788986312, -59.0819864167114]\n",
      "[23.97805111855089, 441.63022316388066]\n",
      "[692.2522903121915, 56.12051952991508]\n",
      "[-34.085966449430565, 64.28767015493763]\n",
      "[80.23504637996199, -56.95652489829837]\n",
      "[23.97805111855089, 441.63022316388066]\n",
      "[686.2178072159664, 56.70643991411524]\n",
      "[-38.05320453497449, 60.881867172316326]\n",
      "[88.41084574052161, -53.97863519959513]\n",
      "[23.97805111855089, 441.63022316388066]\n",
      "[682.0092459409507, 57.13435319803332]\n",
      "[-41.832785473196296, 53.82350704180637]\n",
      "[101.54023136364464, -49.93896339645334]\n",
      "[23.25798127969957, 443.8546152149706]\n",
      "[673.379511094901, 57.92864947431155]\n",
      "[-45.59338761762222, 38.68076596193775]\n",
      "[123.94785174113117, -47.633531490492935]\n",
      "[21.491320551268842, 452.3427495259583]\n",
      "[656.4991535902711, 62.27782433723198]\n",
      "[-45.03100756079835, 35.28959142804623]\n",
      "[129.40170096129827, -48.42273613439761]\n",
      "[20.82216425986502, 454.44462544339194]\n",
      "[651.1520806046839, 64.35632759759459]\n",
      "[-45.55445072699053, 33.44710769788016]\n",
      "[137.04909210631104, -46.80679673912228]\n",
      "[20.82216425986502, 454.44462544339194]\n",
      "[644.0281326258633, 64.58287193248532]\n",
      "[-44.74840870874057, 31.433201074437658]\n",
      "[137.04909210631104, -46.80679673912228]\n",
      "[20.016122241615065, 456.45853206683444]\n",
      "[644.0281326258633, 64.58287193248532]\n",
      "[-44.74840870874057, 31.433201074437658]\n",
      "[137.04909210631104, -46.80679673912228]\n",
      "[20.016122241615065, 456.45853206683444]\n",
      "[644.0281326258633, 64.58287193248532]\n",
      "[-44.74840870874057, 31.433201074437658]\n",
      "[137.04909210631104, -46.80679673912228]\n",
      "[20.016122241615065, 456.45853206683444]\n",
      "[644.0281326258633, 64.58287193248532]\n",
      "[-44.74840870874057, 31.433201074437658]\n",
      "[137.04909210631104, -46.80679673912228]\n",
      "[20.016122241615065, 456.45853206683444]\n",
      "[644.0281326258633, 64.58287193248532]\n",
      "[-44.74840870874057, 31.433201074437658]\n",
      "[137.04909210631104, -46.80679673912228]\n",
      "[20.016122241615065, 456.45853206683444]\n",
      "[644.0281326258633, 64.58287193248532]\n",
      "[-44.74840870874057, 31.433201074437658]\n",
      "[137.04909210631104, -46.80679673912228]\n",
      "[20.016122241615065, 456.45853206683444]\n",
      "[644.0281326258633, 64.58287193248532]\n",
      "[-44.74840870874057, 31.433201074437658]\n",
      "[137.04909210631104, -46.80679673912228]\n",
      "[20.016122241615065, 456.45853206683444]\n",
      "[644.0281326258633, 64.58287193248532]\n",
      "[4679.302700434428, 957.3789541097542, 804.7998153260935, 770.9830700421786, 758.7147010984401, 749.1442216726674, 742.7569309809396, 739.4234680234696, 737.1234336834045, 733.8154064876217, 725.8005993633819, 718.1148849098299, 717.2836855252684, 716.8241040873519, 716.7724740433453, 716.7724740433453, 716.7724740433453, 716.7724740433453, 716.7724740433453, 716.7724740433453]\n",
      "[319.4969975737746, -84.34558964067723]\n",
      "[0.5376250455960667, 1.7427685468338727]\n",
      "[501.391381541682, 220.8728076805714]\n",
      "[-58.257665294991895, 403.55485316909136]\n",
      "[-6.8234006010119295, -36.15703142118426]\n",
      "[398.8874570143186, -72.86285026826889]\n",
      "[7.278042453233031, 26.90056769793864]\n",
      "[363.08061070560467, 138.82054623643361]\n",
      "[-6.52866515716886, 453.29676652863685]\n",
      "[-6.3725067509387365, -40.48722186010505]\n",
      "[402.1514638626122, -68.74659386304157]\n",
      "[12.7825061879253, 44.876493193190676]\n",
      "[334.04584687836336, 119.32322199002272]\n",
      "[7.051316913717945, 456.68588391042493]\n",
      "[0.3138044224299912, -46.47119689596165]\n",
      "[395.1786536300466, -68.15178269574659]\n",
      "[8.49707939846219, 55.604319072771666]\n",
      "[334.5904946179871, 115.54661286238569]\n",
      "[13.67033166742613, 452.1421871971596]\n",
      "[4.408378951126929, -49.47352810193522]\n",
      "[396.7791252723298, -68.15990492653182]\n",
      "[3.645426039660695, 56.33543183567779]\n",
      "[334.5904946179871, 115.54661286238569]\n",
      "[13.67033166742613, 452.1421871971596]\n",
      "[7.659560667645231, -50.1965186340561]\n",
      "[401.53733416043065, -67.99579391720656]\n",
      "[-8.096297672400022, 58.38288219418644]\n",
      "[334.5904946179871, 115.54661286238569]\n",
      "[15.14667214191076, 450.1516670399935]\n",
      "[13.166735017120441, -50.41755984472397]\n",
      "[399.50971846590517, -67.55245152150933]\n",
      "[-13.2206703860407, 61.743736904915714]\n",
      "[338.4074304964528, 115.78651493711438]\n",
      "[15.956510210977424, 446.11405459582954]\n",
      "[15.691949477754164, -50.424046581715146]\n",
      "[396.05321446663095, -67.82551447306601]\n",
      "[-14.95841270510119, 65.71027585134843]\n",
      "[341.863934495727, 116.05957788867106]\n",
      "[16.80749133592476, 441.9391250140796]\n",
      "[16.57871067186732, -50.21565594639781]\n",
      "[391.75357816153405, -67.56877294439619]\n",
      "[-18.142093005170832, 68.8341251116476]\n",
      "[346.1558585400064, 116.21620474835792]\n",
      "[16.578181877326532, 437.8093015652917]\n",
      "[19.99941269135273, -49.623050146265776]\n",
      "[378.45983988050807, -68.13572661098033]\n",
      "[-20.51022681362417, 73.05291547833428]\n",
      "[354.64366300734457, 116.4990964233052]\n",
      "[18.30934690949812, 433.34007085519204]\n",
      "[25.44231528132216, -49.08854781121597]\n",
      "[371.1285033858747, -68.62110535791747]\n",
      "[-22.09259806266552, 72.34623618808078]\n",
      "[358.72474404913993, 116.65223821830064]\n",
      "[18.30934690949812, 433.34007085519204]\n",
      "[30.274941983201558, -48.04963156902076]\n",
      "[367.6687176452416, -68.08061145020697]\n",
      "[-24.94552283313507, 71.04674672648932]\n",
      "[356.09860753265815, 113.1808869261065]\n",
      "[20.93548342597992, 436.8114221473862]\n",
      "[36.58765249430425, -47.2906360151398]\n",
      "[362.37570758462044, -66.8362145450951]\n",
      "[-26.61578822455981, 70.44468555584774]\n",
      "[356.09860753265815, 113.1808869261065]\n",
      "[20.93548342597992, 436.8114221473862]\n",
      "[43.55092794635013, -47.9329717496101]\n",
      "[351.84405834836247, -63.13974890112284]\n",
      "[-33.663453107242304, 64.12644785689089]\n",
      "[362.5881084436917, 115.29221315945011]\n",
      "[21.73473753532839, 438.79470942923393]\n",
      "[53.841487044908575, -49.4058132098169]\n",
      "[362.1581014978535, -63.08853220350796]\n",
      "[-36.84691948761623, 61.846095085237]\n",
      "[348.4928467678272, 114.97206911749839]\n",
      "[21.73473753532839, 438.79470942923393]\n",
      "[60.806171951656026, -46.85653309382617]\n",
      "[360.0972663480023, -60.591788004087576]\n",
      "[-38.98421992756586, 59.771890351721616]\n",
      "[344.67591088936155, 114.73216704276973]\n",
      "[21.73473753532839, 438.79470942923393]\n",
      "[68.82124341992264, -47.039170485002494]\n",
      "[376.02604787227807, -58.31218728637104]\n",
      "[-41.236147827066624, 57.71489808955146]\n",
      "[326.73717343217623, 113.63727213065681]\n",
      "[21.73473753532839, 438.79470942923393]\n",
      "[73.08312725233282, -46.16688402843597]\n",
      "[372.9448329675625, -54.191958474185164]\n",
      "[-42.8233583944394, 56.11709827355918]\n",
      "[322.2315567836909, 116.52090911385422]\n",
      "[19.10860101884659, 435.32335813703975]\n",
      "[84.8833058893883, -48.10159871563282]\n",
      "[387.2773548144081, -52.383694998473125]\n",
      "[-45.856175597659686, 53.227154938393255]\n",
      "[305.7511820997105, 114.8277562562712]\n",
      "[19.10860101884659, 435.32335813703975]\n",
      "[90.0639759297435, -45.3267659985959]\n",
      "[391.3246057846753, -51.91090877201898]\n",
      "[-49.27935460215306, 45.042626243520054]\n",
      "[301.7039311294433, 114.35497002981707]\n",
      "[18.922980134486373, 439.4201176220777]\n",
      "[93.67277581859712, -41.238996788760645]\n",
      "[2610.1298729422774, 762.6314777634766, 647.4535751290484, 633.4612821709385, 629.5064333970766, 627.7216438098704, 622.3381738260003, 621.0992719874431, 620.4531495623794, 618.8024606189673, 616.648028105434, 615.634148890505, 614.0289087961488, 612.1556218544679, 608.5255456304918, 606.1992497911333, 604.9115634169041, 602.5486951687168, 600.1646364976602, 596.9351734287436]\n"
     ]
    }
   ],
   "source": [
    "import random\n",
    "def distance(x,y,b,a):\n",
    "    return ((x-b)*(x-b)+(y-a)*(y-a))\n",
    "\n",
    "def min_cluster(means,data_point):\n",
    "    min_val = 0\n",
    "    min_dist = 1000.0\n",
    "    for i in range(0,len(means)):\n",
    "        distanceC = distance(data_point[0],data_point[1],means[i][0],means[i][1])\n",
    "        if (min_dist>distanceC):\n",
    "            min_val = i\n",
    "            min_dist = distanceC\n",
    "    return (min_val,min_dist)\n",
    "\n",
    "lossFunctionArray=[]\n",
    "K_3=[]\n",
    "K_5=[]\n",
    "k_3_data = [[],[],[]]\n",
    "k_5_data = [[],[],[],[],[],[]]\n",
    "for K in range(2,6):\n",
    "    means = []\n",
    "    for k in range(0,K):\n",
    "        means.append([random.uniform(-1.0, 1.0),random.uniform(-1.0, 1.0)])\n",
    "    distanceArray = []\n",
    "    for i in range(0,20):\n",
    "        c = []\n",
    "        newMeans = []\n",
    "        for i in range(0,K):\n",
    "            c.append(0)\n",
    "            newMeans.append([0.0,0.0])\n",
    "        distanceC = 0.0  \n",
    "        for i in range(0,len(data)):\n",
    "            clusterVal,min_dist = min_cluster(means,data[i])\n",
    "            c[clusterVal]+=1\n",
    "            newMeans[clusterVal][0] += data[i][0]\n",
    "            newMeans[clusterVal][1] += data[i][1]\n",
    "            distanceC+= min_dist \n",
    "            if(K==3):\n",
    "                k_3_data[clusterVal].append(data[i])\n",
    "            if(K==5):\n",
    "                k_5_data[clusterVal].append(data[i])    \n",
    "        distanceArray.append(distanceC)\n",
    "        \n",
    "        for i in range(0,len(newMeans)):\n",
    "            print(newMeans[i])\n",
    "            if c[i]!=0:\n",
    "                newMeans[i][0]=newMeans[i][0]/c[i]\n",
    "                newMeans[i][1]=newMeans[i][1]/c[i]\n",
    "            else:\n",
    "                newMeans[i][0]=0. \n",
    "                newMeans[i][1]=0.\n",
    "        means = newMeans\n",
    "    if K==3:\n",
    "        K_3.append(means)\n",
    "    if K==5:\n",
    "        K_5.append(means)\n",
    "    print(distanceArray)    \n",
    "    lossFunctionArray.append(distanceArray)            \n",
    "#lossFunctionArray        "
   ]
  },
  {
   "cell_type": "markdown",
   "metadata": {},
   "source": [
    "# Part A: Plot the Objective function for 20 iterations"
   ]
  },
  {
   "cell_type": "code",
   "execution_count": 972,
   "metadata": {},
   "outputs": [
    {
     "data": {
      "image/png": "[encoded data removed]",
      "text/plain": [
       "<Figure size 432x288 with 1 Axes>"
      ]
     },
     "metadata": {
      "needs_background": "light"
     },
     "output_type": "display_data"
    }
   ],
   "source": [
    "plt.plot(lossFunctionArray[0],label='K=2')    \n",
    "plt.plot(lossFunctionArray[1],label='K=3')\n",
    "plt.plot(lossFunctionArray[2],label='K=4')\n",
    "plt.plot(lossFunctionArray[3],label='K=5')\n",
    "plt.legend()\n",
    "plt.show()"
   ]
  },
  {
   "cell_type": "code",
   "execution_count": 973,
   "metadata": {},
   "outputs": [
    {
     "data": {
      "text/plain": [
       "4"
      ]
     },
     "execution_count": 973,
     "metadata": {},
     "output_type": "execute_result"
    }
   ],
   "source": [
    "len(lossFunctionArray)"
   ]
  },
  {
   "cell_type": "code",
   "execution_count": 974,
   "metadata": {},
   "outputs": [
    {
     "name": "stdout",
     "output_type": "stream",
     "text": [
      "[ 0.98218564 -0.59326953]\n"
     ]
    }
   ],
   "source": [
    "print(k_3_data[0][0])\n",
    "cluster_1_k3=k_3_data[0]\n",
    "cluster_2_k3=k_3_data[1]\n",
    "cluster_3_k3=k_3_data[2]\n",
    "x_c1_k3 = []\n",
    "x_c2_k3 = []\n",
    "x_c3_k3 = []\n",
    "y_c1_k3 = []\n",
    "y_c2_k3 = []\n",
    "y_c3_k3 = []\n",
    "for k in cluster_1_k3:\n",
    "    x_c1_k3.append(k[0])\n",
    "    y_c1_k3.append(k[1])\n",
    "for k in cluster_2_k3:\n",
    "    x_c2_k3.append(k[0])\n",
    "    y_c2_k3.append(k[1])\n",
    "for k in cluster_3_k3:\n",
    "    x_c3_k3.append(k[0])\n",
    "    y_c3_k3.append(k[1])    "
   ]
  },
  {
   "cell_type": "markdown",
   "metadata": {},
   "source": [
    "# Part B: Cluster for K=3"
   ]
  },
  {
   "cell_type": "code",
   "execution_count": 975,
   "metadata": {},
   "outputs": [
    {
     "data": {
      "image/png": "[encoded data removed]",
      "text/plain": [
       "<Figure size 432x288 with 1 Axes>"
      ]
     },
     "metadata": {
      "needs_background": "light"
     },
     "output_type": "display_data"
    }
   ],
   "source": [
    "x= [i[0] for i in data]\n",
    "y = [i[1] for i in data]\n",
    "x_k3 = []\n",
    "y_k3 = []\n",
    "for k in K_3[0]:\n",
    "    x_k3.append(k[0])\n",
    "    y_k3.append(k[1])\n",
    "plt.scatter(x_c1_k3,y_c1_k3)\n",
    "plt.scatter(x_c2_k3,y_c2_k3)\n",
    "plt.scatter(x_c3_k3,y_c3_k3)\n",
    "plt.show()"
   ]
  },
  {
   "cell_type": "markdown",
   "metadata": {},
   "source": [
    "# Part B: Cluster for K = 5"
   ]
  },
  {
   "cell_type": "code",
   "execution_count": 976,
   "metadata": {
    "scrolled": true
   },
   "outputs": [
    {
     "data": {
      "image/png": "[encoded data removed]",
      "text/plain": [
       "<Figure size 432x288 with 1 Axes>"
      ]
     },
     "metadata": {
      "needs_background": "light"
     },
     "output_type": "display_data"
    }
   ],
   "source": [
    "x= [i[0] for i in data]\n",
    "y = [i[1] for i in data]\n",
    "x_means_k5 = [i[0] for i in K_5[0]]\n",
    "y_means_k5 = [i[1] for i in K_5[0]]\n",
    "cluster_1_k5=k_5_data[0]\n",
    "cluster_2_k5=k_5_data[1]\n",
    "cluster_3_k5=k_5_data[2]\n",
    "cluster_4_k5=k_5_data[3]\n",
    "cluster_5_k5=k_5_data[4]\n",
    "x_c1_k5 = []\n",
    "x_c2_k5 = []\n",
    "x_c3_k5 = []\n",
    "y_c1_k5 = []\n",
    "y_c2_k5 = []\n",
    "y_c3_k5 = []\n",
    "x_c4_k5 = []\n",
    "x_c5_k5 = []\n",
    "y_c4_k5 = []\n",
    "y_c5_k5 = []\n",
    "for k in cluster_1_k5:\n",
    "    x_c1_k5.append(k[0])\n",
    "    y_c1_k5.append(k[1])\n",
    "for k in cluster_2_k5:\n",
    "    x_c2_k5.append(k[0])\n",
    "    y_c2_k5.append(k[1])\n",
    "for k in cluster_3_k5:\n",
    "    x_c3_k5.append(k[0])\n",
    "    y_c3_k5.append(k[1])\n",
    "for k in cluster_4_k5:\n",
    "    x_c4_k5.append(k[0])\n",
    "    y_c4_k5.append(k[1])\n",
    "for k in cluster_5_k5:\n",
    "    x_c5_k5.append(k[0])\n",
    "    y_c5_k5.append(k[1])    \n",
    "plt.scatter(x_c1_k5,y_c1_k5)\n",
    "plt.scatter(x_c2_k5,y_c2_k5)\n",
    "plt.scatter(x_c3_k5,y_c3_k5)\n",
    "plt.scatter(x_c4_k5,y_c4_k5)\n",
    "plt.scatter(x_c5_k5,y_c5_k5)\n",
    "plt.show()"
   ]
  },
  {
   "cell_type": "code",
   "execution_count": 584,
   "metadata": {},
   "outputs": [
    {
     "data": {
      "text/plain": [
       "(3, 10)"
      ]
     },
     "execution_count": 584,
     "metadata": {},
     "output_type": "execute_result"
    }
   ],
   "source": [
    "samplingMeans.shape"
   ]
  },
  {
   "cell_type": "code",
   "execution_count": 629,
   "metadata": {},
   "outputs": [],
   "source": [
    "spam = nonSpam= 0\n",
    "for val in y_train:\n",
    "    if val ==1:\n",
    "        spam+=1\n",
    "    else:\n",
    "        nonSpam+=1\n"
   ]
  },
  {
   "cell_type": "markdown",
   "metadata": {},
   "source": [
    "# Problem 3: EM-GMM Bayes Revisited  "
   ]
  },
  {
   "cell_type": "code",
   "execution_count": 908,
   "metadata": {},
   "outputs": [],
   "source": [
    "\n",
    "\n",
    "\n",
    "def EM_GMM(x_train_spam,is_spam,K=3):\n",
    "    ConsolidatedObjectiveArray = []\n",
    "    for run in range(0,10):\n",
    "        pi = np.full((K,1),1/K)\n",
    "        n= len(x_train_spam)\n",
    "        print(K)\n",
    "        phi = np.zeros((n,K))\n",
    "        s_mean = (np.random.multivariate_normal(np.mean(x_train_spam,axis=0),np.cov(x_train_spam.T),K))\n",
    "        s_covariance= np.full((K,10,10),np.cov(x_train_spam.T)  )  \n",
    "        objectiveArray = []\n",
    "        for iteration in range(0,30):             \n",
    "\n",
    "            for i in range(0,n):\n",
    "                for j in range(0,K):\n",
    "                    phi[i][j]=pi[j]*(multivariate_normal.pdf(x_train_spam[i],mean=s_mean[j], cov=s_covariance[j], allow_singular=True))\n",
    "                divide = sum(phi[i])\n",
    "                phi[i]=phi[i]/divide\n",
    "            nk = np.sum(phi,axis=0)\n",
    "            pi = (nk/n)\n",
    "            n_K = []  \n",
    "            s_mean = np.zeros((K,10))\n",
    "            s_covariance = np.zeros((K,10,10))\n",
    "            for i in range(0,K):\n",
    "                for j in range(0,n):\n",
    "                    s_mean[i]+=(phi[j][i]*x_train_spam[j])\n",
    "                #print(s_mean[i])\n",
    "                s_mean[i]= s_mean[i]/nk[i]\n",
    "                for j in range(0,n):\n",
    "                    val = (x_train_spam[j] - s_mean[i]).reshape(x_train_spam[j].shape[0],1)\n",
    "                    s_covariance[i] += (phi[j][i] * np.matmul(val,val.T))\n",
    "                s_covariance[i]=s_covariance[i]/nk[i] \n",
    "            if run == 4 and is_spam == 1:\n",
    "                mean = s_mean\n",
    "                covariance = s_covariance\n",
    "                pi_c = pi\n",
    "            if run == 6 and is_spam == 0:\n",
    "                mean = s_mean\n",
    "                covariance = s_covariance\n",
    "                pi_c = pi\n",
    "            objective = 0  \n",
    "            for i in range(0,n):\n",
    "                temp = 0\n",
    "                for j in range(0,K):\n",
    "                    normal_value = (multivariate_normal.pdf(x_train_spam[i],mean=s_mean[j], cov=s_covariance[j], allow_singular=True))\n",
    "                    if(normal_value<np.exp(-16)):\n",
    "                        normal_value=np.exp(-16)\n",
    "                    normal_value *= pi[j]\n",
    "                    objective+=np.log(normal_value)*phi[i][j]\n",
    "            objectiveArray.append(objective) \n",
    "        ConsolidatedObjectiveArray.append(objectiveArray)   \n",
    "    return (ConsolidatedObjectiveArray,mean,covariance,pi_c)  \n",
    "\n",
    "     \n"
   ]
  },
  {
   "cell_type": "code",
   "execution_count": 911,
   "metadata": {},
   "outputs": [],
   "source": [
    " #For Non Spam I noticed that run 6 was averaging out to be the best and hence picked it\n",
    " #For Spam I noticed that run 4 was averaging out to be the best and hence picked it "
   ]
  },
  {
   "cell_type": "code",
   "execution_count": 909,
   "metadata": {},
   "outputs": [],
   "source": [
    "df = pd.read_csv('Prob3_Xtrain.csv',header = None)\n",
    "df2 = pd.read_csv('Prob3_ytrain.csv',header = None)\n",
    "x_train = df.to_numpy()\n",
    "y_train = df2.to_numpy()"
   ]
  },
  {
   "cell_type": "code",
   "execution_count": 910,
   "metadata": {},
   "outputs": [
    {
     "name": "stdout",
     "output_type": "stream",
     "text": [
      "3\n",
      "3\n",
      "3\n",
      "3\n",
      "3\n",
      "3\n",
      "3\n",
      "3\n",
      "3\n",
      "3\n",
      "3\n",
      "3\n",
      "3\n",
      "3\n",
      "3\n",
      "3\n",
      "3\n",
      "3\n",
      "3\n",
      "3\n"
     ]
    }
   ],
   "source": [
    "temp = []\n",
    "for k in range(0,len(x_train)):\n",
    "    if y_train[k][0]==1:\n",
    "        temp.append(k)\n",
    "df_x_train_spam = df[df.index.isin(temp)]\n",
    "x_train_spam = df_x_train_spam.to_numpy()   \n",
    "ConsolidatedSpamObjectiveArray,mean1,covariance1,pi1 = EM_GMM(x_train_spam,1,3)\n",
    "\n",
    "temp = []\n",
    "for k in range(0,len(x_train)):\n",
    "    if y_train[k][0]==0:\n",
    "        temp.append(k)\n",
    "df_x_train_non_spam = df[df.index.isin(temp)]\n",
    "x_train_non_spam = df_x_train_non_spam.to_numpy()   \n",
    "ConsolidatedNonSpamObjectiveArray,mean2,covariance2,pi2 = EM_GMM(x_train_non_spam,0,3)"
   ]
  },
  {
   "cell_type": "code",
   "execution_count": 795,
   "metadata": {},
   "outputs": [
    {
     "data": {
      "text/plain": [
       "(3, 10, 10)"
      ]
     },
     "execution_count": 795,
     "metadata": {},
     "output_type": "execute_result"
    }
   ],
   "source": [
    "covariance2.shape"
   ]
  },
  {
   "cell_type": "markdown",
   "metadata": {},
   "source": [
    "# PART A: OBJECTIVE FUNCTION FOR SPAM/NON-SPAM"
   ]
  },
  {
   "cell_type": "code",
   "execution_count": 915,
   "metadata": {},
   "outputs": [
    {
     "data": {
      "image/png": "[encoded data removed]",
      "text/plain": [
       "<Figure size 432x288 with 1 Axes>"
      ]
     },
     "metadata": {
      "needs_background": "light"
     },
     "output_type": "display_data"
    }
   ],
   "source": [
    "plt.plot(ConsolidatedSpamObjectiveArray[0][4:30],label = \"RUN 1\")\n",
    "plt.plot(ConsolidatedSpamObjectiveArray[1][4:30],label = \"RUN 2\")\n",
    "plt.plot(ConsolidatedSpamObjectiveArray[2][4:30],label = \"RUN 3\")\n",
    "plt.plot(ConsolidatedSpamObjectiveArray[3][4:30],label = \"RUN 4\")\n",
    "plt.plot(ConsolidatedSpamObjectiveArray[4][4:30],label = \"RUN 5\")\n",
    "plt.plot(ConsolidatedSpamObjectiveArray[5][4:30],label = \"RUN 6\")\n",
    "plt.plot(ConsolidatedSpamObjectiveArray[6][4:30],label = \"RUN 7\")\n",
    "plt.plot(ConsolidatedSpamObjectiveArray[7][4:30],label = \"RUN 8\")\n",
    "plt.plot(ConsolidatedSpamObjectiveArray[8][4:30],label = \"RUN 9\")\n",
    "plt.plot(ConsolidatedSpamObjectiveArray[9][4:30],label = \"RUN 10\")\n",
    "plt.title('Graph For Spam')\n",
    "plt.legend()\n",
    "plt.show()"
   ]
  },
  {
   "cell_type": "code",
   "execution_count": 918,
   "metadata": {},
   "outputs": [
    {
     "data": {
      "image/png": "[encoded data removed]",
      "text/plain": [
       "<Figure size 432x288 with 1 Axes>"
      ]
     },
     "metadata": {
      "needs_background": "light"
     },
     "output_type": "display_data"
    }
   ],
   "source": [
    "plt.plot(ConsolidatedNonSpamObjectiveArray[0][4:30],label = \"RUN 1\")\n",
    "plt.plot(ConsolidatedNonSpamObjectiveArray[1][4:30],label = \"RUN 2\")\n",
    "plt.plot(ConsolidatedNonSpamObjectiveArray[2][4:30],label = \"RUN 3\")\n",
    "plt.plot(ConsolidatedNonSpamObjectiveArray[3][4:30],label = \"RUN 4\")\n",
    "plt.plot(ConsolidatedNonSpamObjectiveArray[4][4:30],label = \"RUN 5\")\n",
    "plt.plot(ConsolidatedNonSpamObjectiveArray[5][4:30],label = \"RUN 6\")\n",
    "plt.plot(ConsolidatedNonSpamObjectiveArray[6][4:30],label = \"RUN 7\")\n",
    "plt.plot(ConsolidatedNonSpamObjectiveArray[7][4:30],label = \"RUN 8\")\n",
    "plt.plot(ConsolidatedNonSpamObjectiveArray[8][4:30],label = \"RUN 9\")\n",
    "plt.plot(ConsolidatedNonSpamObjectiveArray[9][4:30],label = \"RUN 10\")\n",
    "plt.title('Graph For Non Spam')\n",
    "plt.legend()\n",
    "plt.show()\n"
   ]
  },
  {
   "cell_type": "code",
   "execution_count": 818,
   "metadata": {},
   "outputs": [],
   "source": [
    "x_test = pd.read_csv('Prob3_Xtest.csv',header = None).to_numpy()\n",
    "y_test = pd.read_csv('Prob3_ytest.csv',header = None).to_numpy()\n",
    "y_train_x = pd.read_csv('Prob3_ytrain.csv',header = None).to_numpy()\n",
    "p_spam = 0\n",
    "p_not_spam = 0\n",
    "for y in y_train_x:\n",
    "    if y[0]==1:\n",
    "        p_spam+=1\n",
    "    elif  y[0]==0:\n",
    "        p_not_spam+=1\n",
    "p_spam/=len(y_train_x)\n",
    "p_not_spam/=len(y_train_x)\n",
    "\n",
    "\n",
    "def naiveBayes(pi1,mean1,covariance1,pi2,mean2,covariance2,K):\n",
    "    \n",
    "    y_pred = []\n",
    "    for i in range(0,len(x_test)):\n",
    "        ccd1 = 0\n",
    "        ccd2=0\n",
    "        for j in range(0,K):\n",
    "            ccd1+= pi1[j]*multivariate_normal.pdf(x_test[i],mean=mean1[j], cov=covariance1[j], allow_singular=True)\n",
    "            ccd2+= pi2[j]*multivariate_normal.pdf(x_test[i],mean=mean2[j], cov=covariance2[j], allow_singular=True)\n",
    "        if((p_spam*ccd1)>(p_not_spam*ccd2)):\n",
    "            y_pred.append([1])\n",
    "        elif((p_spam*ccd1)<(p_not_spam*ccd2)):\n",
    "            y_pred.append([0])\n",
    "    return y_pred    \n",
    "\n",
    "\n",
    "y_pred = naiveBayes(pi1,mean1,covariance1,pi2,mean2,covariance2,3)\n"
   ]
  },
  {
   "cell_type": "markdown",
   "metadata": {},
   "source": [
    "# PART B: CONFUSION MATRIX AND ACCURACY FOR K = 3"
   ]
  },
  {
   "cell_type": "code",
   "execution_count": 819,
   "metadata": {},
   "outputs": [
    {
     "data": {
      "text/plain": [
       "array([[216,  62],\n",
       "       [ 20, 162]])"
      ]
     },
     "execution_count": 819,
     "metadata": {},
     "output_type": "execute_result"
    }
   ],
   "source": [
    "\n",
    "confusion_matrix(y_test, y_pred)"
   ]
  },
  {
   "cell_type": "code",
   "execution_count": 828,
   "metadata": {},
   "outputs": [
    {
     "name": "stdout",
     "output_type": "stream",
     "text": [
      "Accuracy Percentage for K=3 = 0.8217391304347826\n"
     ]
    }
   ],
   "source": [
    "count = 0\n",
    "for i in range(0,len(y_test)):\n",
    "    if(y_pred[i][0]==y_test[i][0]):\n",
    "        count+=1\n",
    "print('Accuracy Percentage for K=3 = '+str(count/len(y_test)))        "
   ]
  },
  {
   "cell_type": "code",
   "execution_count": 823,
   "metadata": {},
   "outputs": [
    {
     "name": "stdout",
     "output_type": "stream",
     "text": [
      "1631\n",
      "1631\n",
      "1631\n",
      "1631\n",
      "1631\n",
      "1631\n",
      "1631\n",
      "1631\n",
      "1631\n",
      "1631\n",
      "2509\n",
      "2509\n",
      "2509\n",
      "2509\n",
      "2509\n",
      "2509\n",
      "2509\n",
      "2509\n",
      "2509\n",
      "2509\n"
     ]
    }
   ],
   "source": [
    "ConsolidatedSpamObjectiveArray1,mean11,covariance11,pi11 = EM_GMM(x_train_spam,1,1)\n",
    "ConsolidatedNonSpamObjectiveArray1,mean21,covariance21,pi21 = EM_GMM(x_train_non_spam,0,1)"
   ]
  },
  {
   "cell_type": "markdown",
   "metadata": {},
   "source": [
    "# PART B: CONFUSION MATRIX AND ACCURACY FOR K = 1"
   ]
  },
  {
   "cell_type": "code",
   "execution_count": 826,
   "metadata": {},
   "outputs": [
    {
     "data": {
      "text/plain": [
       "array([[183,  95],\n",
       "       [  7, 175]])"
      ]
     },
     "execution_count": 826,
     "metadata": {},
     "output_type": "execute_result"
    }
   ],
   "source": [
    "y_pred_1 = naiveBayes(pi11,mean11,covariance11,pi21,mean21,covariance21,1)\n",
    "confusion_matrix(y_test, y_pred_1)"
   ]
  },
  {
   "cell_type": "code",
   "execution_count": 829,
   "metadata": {},
   "outputs": [
    {
     "name": "stdout",
     "output_type": "stream",
     "text": [
      "Accuracy Percentage For K=1 = 0.7782608695652173\n"
     ]
    }
   ],
   "source": [
    "count = 0\n",
    "for i in range(0,len(y_test)):\n",
    "    if(y_pred_1[i][0]==y_test[i][0]):\n",
    "        count+=1\n",
    "print('Accuracy Percentage For K=1 = '+str(count/len(y_test)))  "
   ]
  },
  {
   "cell_type": "code",
   "execution_count": 824,
   "metadata": {},
   "outputs": [
    {
     "name": "stdout",
     "output_type": "stream",
     "text": [
      "1631\n",
      "1631\n",
      "1631\n",
      "1631\n",
      "1631\n",
      "1631\n",
      "1631\n",
      "1631\n",
      "1631\n",
      "1631\n",
      "2509\n",
      "2509\n",
      "2509\n",
      "2509\n",
      "2509\n",
      "2509\n",
      "2509\n",
      "2509\n",
      "2509\n",
      "2509\n"
     ]
    }
   ],
   "source": [
    "ConsolidatedSpamObjectiveArray2,mean12,covariance12,pi12 = EM_GMM(x_train_spam,1,2)\n",
    "ConsolidatedNonSpamObjectiveArray2,mean22,covariance22,pi22 = EM_GMM(x_train_non_spam,0,2)"
   ]
  },
  {
   "cell_type": "markdown",
   "metadata": {},
   "source": [
    "# PART B: CONFUSION MATRIX AND ACCURACY FOR K = 2"
   ]
  },
  {
   "cell_type": "code",
   "execution_count": 835,
   "metadata": {},
   "outputs": [
    {
     "data": {
      "text/plain": [
       "array([[205,  73],\n",
       "       [ 19, 163]])"
      ]
     },
     "execution_count": 835,
     "metadata": {},
     "output_type": "execute_result"
    }
   ],
   "source": [
    "y_pred_2 = naiveBayes(pi12,mean12,covariance12,pi22,mean22,covariance22,2)\n",
    "confusion_matrix(y_test, y_pred_2)"
   ]
  },
  {
   "cell_type": "code",
   "execution_count": 837,
   "metadata": {},
   "outputs": [
    {
     "name": "stdout",
     "output_type": "stream",
     "text": [
      "Accuracy Percentage For K=2 = 0.8\n"
     ]
    }
   ],
   "source": [
    "count = 0\n",
    "for i in range(0,len(y_test)):\n",
    "    if(y_pred_2[i][0]==y_test[i][0]):\n",
    "        count+=1\n",
    "print('Accuracy Percentage For K=2 = '+str(count/len(y_test))) "
   ]
  },
  {
   "cell_type": "code",
   "execution_count": 843,
   "metadata": {},
   "outputs": [
    {
     "name": "stdout",
     "output_type": "stream",
     "text": [
      "4\n",
      "4\n",
      "4\n",
      "4\n",
      "4\n",
      "4\n",
      "4\n",
      "4\n",
      "4\n",
      "4\n",
      "4\n",
      "4\n",
      "4\n",
      "4\n",
      "4\n",
      "4\n",
      "4\n",
      "4\n",
      "4\n",
      "4\n"
     ]
    }
   ],
   "source": [
    "ConsolidatedSpamObjectiveArray4,mean14,covariance14,pi14 = EM_GMM(x_train_spam,1,4)\n",
    "ConsolidatedNonSpamObjectiveArray4,mean24,covariance24,pi24 = EM_GMM(x_train_non_spam,0,4)"
   ]
  },
  {
   "cell_type": "markdown",
   "metadata": {},
   "source": [
    "# PART B: CONFUSION MATRIX AND ACCURACY FOR K = 4"
   ]
  },
  {
   "cell_type": "code",
   "execution_count": 844,
   "metadata": {},
   "outputs": [
    {
     "data": {
      "text/plain": [
       "array([[213,  65],\n",
       "       [ 14, 168]])"
      ]
     },
     "execution_count": 844,
     "metadata": {},
     "output_type": "execute_result"
    }
   ],
   "source": [
    "y_pred_4 = naiveBayes(pi14,mean14,covariance14,pi24,mean24,covariance24,4)\n",
    "confusion_matrix(y_test, y_pred_4)"
   ]
  },
  {
   "cell_type": "code",
   "execution_count": 845,
   "metadata": {},
   "outputs": [
    {
     "name": "stdout",
     "output_type": "stream",
     "text": [
      "Accuracy Percentage For K=4 = 0.8282608695652174\n"
     ]
    }
   ],
   "source": [
    "count = 0\n",
    "for i in range(0,len(y_test)):\n",
    "    if(y_pred_4[i][0]==y_test[i][0]):\n",
    "        count+=1\n",
    "print('Accuracy Percentage For K=4 = '+str(count/len(y_test)))"
   ]
  },
  {
   "cell_type": "code",
   "execution_count": null,
   "metadata": {},
   "outputs": [],
   "source": []
  },
  {
   "cell_type": "raw",
   "metadata": {},
   "source": []
  },
  {
   "cell_type": "code",
   "execution_count": null,
   "metadata": {},
   "outputs": [],
   "source": []
  }
 ],
 "metadata": {
  "kernelspec": {
   "display_name": "Python 3",
   "language": "python",
   "name": "python3"
  },
  "language_info": {
   "codemirror_mode": {
    "name": "ipython",
    "version": 3
   },
   "file_extension": ".py",
   "mimetype": "text/x-python",
   "name": "python",
   "nbconvert_exporter": "python",
   "pygments_lexer": "ipython3",
   "version": "3.8.5"
  }
 },
 "nbformat": 4,
 "nbformat_minor": 4
}
